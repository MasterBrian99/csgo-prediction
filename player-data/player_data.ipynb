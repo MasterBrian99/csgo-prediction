{
 "cells": [
  {
   "cell_type": "code",
   "execution_count": 82,
   "outputs": [],
   "source": [
    "import numpy as np\n",
    "import pandas as pd\n",
    "import mysql.connector\n",
    "from decimal import *\n",
    "from pandas.plotting import scatter_matrix\n",
    "import seaborn as sns\n",
    "from ast import literal_eval\n",
    "import folium\n",
    "from collections import Counter\n",
    "from sklearn.model_selection import train_test_split\n",
    "from sklearn.preprocessing import StandardScaler\n",
    "from sklearn.pipeline import Pipeline\n",
    "\n",
    "from sklearn.linear_model import Ridge"
   ],
   "metadata": {
    "collapsed": false,
    "pycharm": {
     "name": "#%%\n"
    }
   }
  },
  {
   "cell_type": "code",
   "execution_count": 83,
   "outputs": [
    {
     "name": "stdout",
     "output_type": "stream",
     "text": [
      "<mysql.connector.connection_cext.CMySQLConnection object at 0x7f44e8d319c0>\n"
     ]
    }
   ],
   "source": [
    "mydb = mysql.connector.connect(\n",
    "    host=\"localhost\",\n",
    "    user=\"root\",\n",
    "    passwd=\"1234\"\n",
    ")\n",
    "\n",
    "print(mydb)\n",
    "mycursor = mydb.cursor()\n",
    "mycursor.execute(\"use csgo_data\")\n",
    "mycursor.execute(\"TRUNCATE TABLE player_stats\")\n"
   ],
   "metadata": {
    "collapsed": false,
    "pycharm": {
     "name": "#%%\n"
    }
   }
  },
  {
   "cell_type": "code",
   "execution_count": 84,
   "outputs": [
    {
     "data": {
      "text/plain": "     name  country                                              url  \\\n0  torzsi  Hungary  https://www.hltv.org/stats/players/18072/torzsi   \n1  yuurih   Brazil  https://www.hltv.org/stats/players/12553/yuurih   \n2     vsm   Brazil     https://www.hltv.org/stats/players/16816/vsm   \n3  syrsoN  Germany   https://www.hltv.org/stats/players/7266/syrson   \n4   ZywOo   France   https://www.hltv.org/stats/players/11893/zywoo   \n\n                                    teams  maps_played  rounds_played  \\\n0  MOUZ,Budapest Five,MOUZ NXT,Salamander          463          12383   \n1                                   FURIA         1013          26421   \n2                         DETONA,00NATION          533          14130   \n3          BIG,BIG,ALTERNATE aTTaX,Sprout         1735          46095   \n4                            Vitality,aAa         1011          26577   \n\n   kd_difference  kd_ratio  rating  total_kills  \\\n0           1963      1.26    1.17         9629   \n1           3146      1.19    1.12        19975   \n2           1485      1.16    1.12        10883   \n3           4647      1.16    1.09        33692   \n4           6115      1.37    1.27        22439   \n\n                                           image_url  \n0  https://img-cdn.hltv.org/playerbodyshot/vXrIz7...  \n1  https://img-cdn.hltv.org/playerbodyshot/_I8K7J...  \n2  https://img-cdn.hltv.org/playerbodyshot/ZQ7XFT...  \n3  https://img-cdn.hltv.org/playerbodyshot/G3MPAU...  \n4  https://img-cdn.hltv.org/playerbodyshot/OfWl-Y...  ",
      "text/html": "<div>\n<style scoped>\n    .dataframe tbody tr th:only-of-type {\n        vertical-align: middle;\n    }\n\n    .dataframe tbody tr th {\n        vertical-align: top;\n    }\n\n    .dataframe thead th {\n        text-align: right;\n    }\n</style>\n<table border=\"1\" class=\"dataframe\">\n  <thead>\n    <tr style=\"text-align: right;\">\n      <th></th>\n      <th>name</th>\n      <th>country</th>\n      <th>url</th>\n      <th>teams</th>\n      <th>maps_played</th>\n      <th>rounds_played</th>\n      <th>kd_difference</th>\n      <th>kd_ratio</th>\n      <th>rating</th>\n      <th>total_kills</th>\n      <th>image_url</th>\n    </tr>\n  </thead>\n  <tbody>\n    <tr>\n      <th>0</th>\n      <td>torzsi</td>\n      <td>Hungary</td>\n      <td>https://www.hltv.org/stats/players/18072/torzsi</td>\n      <td>MOUZ,Budapest Five,MOUZ NXT,Salamander</td>\n      <td>463</td>\n      <td>12383</td>\n      <td>1963</td>\n      <td>1.26</td>\n      <td>1.17</td>\n      <td>9629</td>\n      <td>https://img-cdn.hltv.org/playerbodyshot/vXrIz7...</td>\n    </tr>\n    <tr>\n      <th>1</th>\n      <td>yuurih</td>\n      <td>Brazil</td>\n      <td>https://www.hltv.org/stats/players/12553/yuurih</td>\n      <td>FURIA</td>\n      <td>1013</td>\n      <td>26421</td>\n      <td>3146</td>\n      <td>1.19</td>\n      <td>1.12</td>\n      <td>19975</td>\n      <td>https://img-cdn.hltv.org/playerbodyshot/_I8K7J...</td>\n    </tr>\n    <tr>\n      <th>2</th>\n      <td>vsm</td>\n      <td>Brazil</td>\n      <td>https://www.hltv.org/stats/players/16816/vsm</td>\n      <td>DETONA,00NATION</td>\n      <td>533</td>\n      <td>14130</td>\n      <td>1485</td>\n      <td>1.16</td>\n      <td>1.12</td>\n      <td>10883</td>\n      <td>https://img-cdn.hltv.org/playerbodyshot/ZQ7XFT...</td>\n    </tr>\n    <tr>\n      <th>3</th>\n      <td>syrsoN</td>\n      <td>Germany</td>\n      <td>https://www.hltv.org/stats/players/7266/syrson</td>\n      <td>BIG,BIG,ALTERNATE aTTaX,Sprout</td>\n      <td>1735</td>\n      <td>46095</td>\n      <td>4647</td>\n      <td>1.16</td>\n      <td>1.09</td>\n      <td>33692</td>\n      <td>https://img-cdn.hltv.org/playerbodyshot/G3MPAU...</td>\n    </tr>\n    <tr>\n      <th>4</th>\n      <td>ZywOo</td>\n      <td>France</td>\n      <td>https://www.hltv.org/stats/players/11893/zywoo</td>\n      <td>Vitality,aAa</td>\n      <td>1011</td>\n      <td>26577</td>\n      <td>6115</td>\n      <td>1.37</td>\n      <td>1.27</td>\n      <td>22439</td>\n      <td>https://img-cdn.hltv.org/playerbodyshot/OfWl-Y...</td>\n    </tr>\n  </tbody>\n</table>\n</div>"
     },
     "execution_count": 84,
     "metadata": {},
     "output_type": "execute_result"
    }
   ],
   "source": [
    "df = pd.read_csv(\"../data-collecter-js/newOut.csv\")\n",
    "df.head(5)"
   ],
   "metadata": {
    "collapsed": false,
    "pycharm": {
     "name": "#%%\n"
    }
   }
  },
  {
   "cell_type": "code",
   "execution_count": 85,
   "outputs": [
    {
     "name": "stdout",
     "output_type": "stream",
     "text": [
      "<class 'pandas.core.frame.DataFrame'>\n",
      "RangeIndex: 100 entries, 0 to 99\n",
      "Data columns (total 11 columns):\n",
      " #   Column         Non-Null Count  Dtype  \n",
      "---  ------         --------------  -----  \n",
      " 0   name           100 non-null    object \n",
      " 1   country        100 non-null    object \n",
      " 2   url            100 non-null    object \n",
      " 3   teams          100 non-null    object \n",
      " 4   maps_played    100 non-null    int64  \n",
      " 5   rounds_played  100 non-null    int64  \n",
      " 6   kd_difference  100 non-null    int64  \n",
      " 7   kd_ratio       100 non-null    float64\n",
      " 8   rating         100 non-null    float64\n",
      " 9   total_kills    100 non-null    int64  \n",
      " 10  image_url      95 non-null     object \n",
      "dtypes: float64(2), int64(4), object(5)\n",
      "memory usage: 8.7+ KB\n"
     ]
    }
   ],
   "source": [
    "df.info()"
   ],
   "metadata": {
    "collapsed": false,
    "pycharm": {
     "name": "#%%\n"
    }
   }
  },
  {
   "cell_type": "code",
   "execution_count": 86,
   "outputs": [
    {
     "data": {
      "text/plain": "       maps_played  rounds_played  kd_difference    kd_ratio      rating  \\\ncount   100.000000     100.000000     100.000000  100.000000  100.000000   \nmean    948.120000   24883.320000    2996.360000    1.192700    1.121000   \nstd     402.187033   10575.801029    1533.111305    0.062569    0.036195   \nmin     390.000000   10339.000000     718.000000    1.090000    1.090000   \n25%     618.750000   15995.500000    1756.750000    1.150000    1.100000   \n50%     889.500000   23424.500000    2605.500000    1.180000    1.110000   \n75%    1179.750000   31374.500000    3853.750000    1.200000    1.130000   \nmax    2089.000000   54327.000000    9004.000000    1.450000    1.270000   \n\n        total_kills  \ncount    100.000000  \nmean   18745.750000  \nstd     8030.567261  \nmin     7931.000000  \n25%    12123.250000  \n50%    17515.000000  \n75%    22978.000000  \nmax    40979.000000  ",
      "text/html": "<div>\n<style scoped>\n    .dataframe tbody tr th:only-of-type {\n        vertical-align: middle;\n    }\n\n    .dataframe tbody tr th {\n        vertical-align: top;\n    }\n\n    .dataframe thead th {\n        text-align: right;\n    }\n</style>\n<table border=\"1\" class=\"dataframe\">\n  <thead>\n    <tr style=\"text-align: right;\">\n      <th></th>\n      <th>maps_played</th>\n      <th>rounds_played</th>\n      <th>kd_difference</th>\n      <th>kd_ratio</th>\n      <th>rating</th>\n      <th>total_kills</th>\n    </tr>\n  </thead>\n  <tbody>\n    <tr>\n      <th>count</th>\n      <td>100.000000</td>\n      <td>100.000000</td>\n      <td>100.000000</td>\n      <td>100.000000</td>\n      <td>100.000000</td>\n      <td>100.000000</td>\n    </tr>\n    <tr>\n      <th>mean</th>\n      <td>948.120000</td>\n      <td>24883.320000</td>\n      <td>2996.360000</td>\n      <td>1.192700</td>\n      <td>1.121000</td>\n      <td>18745.750000</td>\n    </tr>\n    <tr>\n      <th>std</th>\n      <td>402.187033</td>\n      <td>10575.801029</td>\n      <td>1533.111305</td>\n      <td>0.062569</td>\n      <td>0.036195</td>\n      <td>8030.567261</td>\n    </tr>\n    <tr>\n      <th>min</th>\n      <td>390.000000</td>\n      <td>10339.000000</td>\n      <td>718.000000</td>\n      <td>1.090000</td>\n      <td>1.090000</td>\n      <td>7931.000000</td>\n    </tr>\n    <tr>\n      <th>25%</th>\n      <td>618.750000</td>\n      <td>15995.500000</td>\n      <td>1756.750000</td>\n      <td>1.150000</td>\n      <td>1.100000</td>\n      <td>12123.250000</td>\n    </tr>\n    <tr>\n      <th>50%</th>\n      <td>889.500000</td>\n      <td>23424.500000</td>\n      <td>2605.500000</td>\n      <td>1.180000</td>\n      <td>1.110000</td>\n      <td>17515.000000</td>\n    </tr>\n    <tr>\n      <th>75%</th>\n      <td>1179.750000</td>\n      <td>31374.500000</td>\n      <td>3853.750000</td>\n      <td>1.200000</td>\n      <td>1.130000</td>\n      <td>22978.000000</td>\n    </tr>\n    <tr>\n      <th>max</th>\n      <td>2089.000000</td>\n      <td>54327.000000</td>\n      <td>9004.000000</td>\n      <td>1.450000</td>\n      <td>1.270000</td>\n      <td>40979.000000</td>\n    </tr>\n  </tbody>\n</table>\n</div>"
     },
     "execution_count": 86,
     "metadata": {},
     "output_type": "execute_result"
    }
   ],
   "source": [
    "df.describe()"
   ],
   "metadata": {
    "collapsed": false,
    "pycharm": {
     "name": "#%%\n"
    }
   }
  },
  {
   "cell_type": "code",
   "execution_count": 87,
   "outputs": [],
   "source": [
    "df_numeric = df.select_dtypes(include=[np.number])\n",
    "df_categoric = df.select_dtypes(exclude=[np.number])\n",
    "\n",
    "df_numeric_cols = list(df_numeric.columns)\n",
    "df_categoric_cols = list(df_categoric.columns)"
   ],
   "metadata": {
    "collapsed": false,
    "pycharm": {
     "name": "#%%\n"
    }
   }
  },
  {
   "cell_type": "code",
   "execution_count": 88,
   "outputs": [],
   "source": [
    "def maxAndMinStats(dataframe, cols):\n",
    "    \"\"\"Extracting out players with interesting statistics\"\"\"\n",
    "    def maxAndMin(dataf, column):\n",
    "        return dataf.loc[dataf[column].idxmax()], dataf.loc[dataf[column].idxmin()]\n",
    "\n",
    "    maxMinList = []\n",
    "\n",
    "    for col in cols:\n",
    "        print('Column: ', col)\n",
    "        res = maxAndMin(dataframe, col)\n",
    "        max_, min_ = res\n",
    "        print('Max in ', col, ': ', max_['name'])\n",
    "        # print('Min in ', col, ': ', min_['name'], '\\n')\n",
    "        # print(max_['image_url'])\n",
    "        # print(max_[col])\n",
    "        sql= \"insert into player_stats(title, count, name, profile_url) VALUES(%s,%s,%s,%s)\"\n",
    "        values=(col,str(max_[col]),max_['name'],max_['image_url'])\n",
    "        mycursor.execute(sql,values)\n",
    "        mydb.commit()\n",
    "        print(mycursor.rowcount, \"record(s) inserted.\")\n",
    "        maxMinList.append(res)\n",
    "\n",
    "    return maxMinList"
   ],
   "metadata": {
    "collapsed": false,
    "pycharm": {
     "name": "#%%\n"
    }
   }
  },
  {
   "cell_type": "code",
   "execution_count": 89,
   "outputs": [
    {
     "name": "stdout",
     "output_type": "stream",
     "text": [
      "Column:  maps_played\n",
      "Max in  maps_played :  f0rest\n",
      "1 record(s) inserted.\n",
      "Column:  rounds_played\n",
      "Max in  rounds_played :  f0rest\n",
      "1 record(s) inserted.\n",
      "Column:  kd_difference\n",
      "Max in  kd_difference :  s1mple\n",
      "1 record(s) inserted.\n",
      "Column:  kd_ratio\n",
      "Max in  kd_ratio :  sh1ro\n",
      "1 record(s) inserted.\n",
      "Column:  rating\n",
      "Max in  rating :  ZywOo\n",
      "1 record(s) inserted.\n",
      "Column:  total_kills\n",
      "Max in  total_kills :  f0rest\n",
      "1 record(s) inserted.\n"
     ]
    }
   ],
   "source": [
    "maxMinStats = maxAndMinStats(df, df_numeric_cols)"
   ],
   "metadata": {
    "collapsed": false,
    "pycharm": {
     "name": "#%%\n"
    }
   }
  },
  {
   "cell_type": "code",
   "execution_count": 89,
   "outputs": [],
   "source": [],
   "metadata": {
    "collapsed": false,
    "pycharm": {
     "name": "#%%\n"
    }
   }
  }
 ],
 "metadata": {
  "kernelspec": {
   "display_name": "Python 3",
   "language": "python",
   "name": "python3"
  },
  "language_info": {
   "codemirror_mode": {
    "name": "ipython",
    "version": 2
   },
   "file_extension": ".py",
   "mimetype": "text/x-python",
   "name": "python",
   "nbconvert_exporter": "python",
   "pygments_lexer": "ipython2",
   "version": "2.7.6"
  }
 },
 "nbformat": 4,
 "nbformat_minor": 0
}