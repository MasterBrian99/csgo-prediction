{
 "cells": [
  {
   "cell_type": "code",
   "execution_count": 22,
   "outputs": [],
   "source": [
    "import numpy as np\n",
    "import pandas as pd\n",
    "import mysql.connector"
   ],
   "metadata": {
    "collapsed": false,
    "pycharm": {
     "name": "#%%\n"
    }
   }
  },
  {
   "cell_type": "code",
   "execution_count": 23,
   "outputs": [
    {
     "name": "stdout",
     "output_type": "stream",
     "text": [
      "<mysql.connector.connection_cext.CMySQLConnection object at 0x7fe530b027a0>\n"
     ]
    }
   ],
   "source": [
    "mydb = mysql.connector.connect(\n",
    "    host=\"localhost\",\n",
    "    user=\"root\",\n",
    "    passwd=\"1234\"\n",
    ")\n",
    "\n",
    "print(mydb)\n",
    "mycursor = mydb.cursor()\n",
    "mycursor.execute(\"use csgo_data\")\n",
    "# mycursor.execute(\"TRUNCATE TABLE player_stats\")\n"
   ],
   "metadata": {
    "collapsed": false,
    "pycharm": {
     "name": "#%%\n"
    }
   }
  },
  {
   "cell_type": "code",
   "execution_count": 24,
   "outputs": [
    {
     "data": {
      "text/plain": "       name      country                                                url  \\\n0    torzsi      Hungary    https://www.hltv.org/stats/players/18072/torzsi   \n1     sh1ro       Russia     https://www.hltv.org/stats/players/16920/sh1ro   \n2   degster       Russia   https://www.hltv.org/stats/players/17306/degster   \n3  sterling  New Zealand  https://www.hltv.org/stats/players/12591/sterling   \n4  xsepower       Russia  https://www.hltv.org/stats/players/12733/xsepower   \n\n                                    teams  maps_played  rounds_played  \\\n0  MOUZ,Budapest Five,MOUZ NXT,Salamander          476          12723   \n1                Gambit Youngsters,Gambit          884          23451   \n2                    Espada,Spirit,Spirit          686          18284   \n3       AVANT,Looking For Org,Dire Wolves          861          22023   \n4                           K23,K23,forZe         1264          33946   \n\n   kd_difference  kd_ratio  rating  total_kills  \\\n0           2008      1.26    1.16         9868   \n1           5599      1.45    1.23        18091   \n2           3363      1.31    1.19        14351   \n3           3960      1.30    1.17        17063   \n4           4637      1.23    1.11        24421   \n\n                                           image_url  \n0  https://img-cdn.hltv.org/playerbodyshot/vXrIz7...  \n1  https://img-cdn.hltv.org/playerbodyshot/Eyk16c...  \n2  https://img-cdn.hltv.org/playerbodyshot/bH3qqs...  \n3  https://img-cdn.hltv.org/playerbodyshot/Rg6dzO...  \n4  https://img-cdn.hltv.org/playerbodyshot/rJA5Of...  ",
      "text/html": "<div>\n<style scoped>\n    .dataframe tbody tr th:only-of-type {\n        vertical-align: middle;\n    }\n\n    .dataframe tbody tr th {\n        vertical-align: top;\n    }\n\n    .dataframe thead th {\n        text-align: right;\n    }\n</style>\n<table border=\"1\" class=\"dataframe\">\n  <thead>\n    <tr style=\"text-align: right;\">\n      <th></th>\n      <th>name</th>\n      <th>country</th>\n      <th>url</th>\n      <th>teams</th>\n      <th>maps_played</th>\n      <th>rounds_played</th>\n      <th>kd_difference</th>\n      <th>kd_ratio</th>\n      <th>rating</th>\n      <th>total_kills</th>\n      <th>image_url</th>\n    </tr>\n  </thead>\n  <tbody>\n    <tr>\n      <th>0</th>\n      <td>torzsi</td>\n      <td>Hungary</td>\n      <td>https://www.hltv.org/stats/players/18072/torzsi</td>\n      <td>MOUZ,Budapest Five,MOUZ NXT,Salamander</td>\n      <td>476</td>\n      <td>12723</td>\n      <td>2008</td>\n      <td>1.26</td>\n      <td>1.16</td>\n      <td>9868</td>\n      <td>https://img-cdn.hltv.org/playerbodyshot/vXrIz7...</td>\n    </tr>\n    <tr>\n      <th>1</th>\n      <td>sh1ro</td>\n      <td>Russia</td>\n      <td>https://www.hltv.org/stats/players/16920/sh1ro</td>\n      <td>Gambit Youngsters,Gambit</td>\n      <td>884</td>\n      <td>23451</td>\n      <td>5599</td>\n      <td>1.45</td>\n      <td>1.23</td>\n      <td>18091</td>\n      <td>https://img-cdn.hltv.org/playerbodyshot/Eyk16c...</td>\n    </tr>\n    <tr>\n      <th>2</th>\n      <td>degster</td>\n      <td>Russia</td>\n      <td>https://www.hltv.org/stats/players/17306/degster</td>\n      <td>Espada,Spirit,Spirit</td>\n      <td>686</td>\n      <td>18284</td>\n      <td>3363</td>\n      <td>1.31</td>\n      <td>1.19</td>\n      <td>14351</td>\n      <td>https://img-cdn.hltv.org/playerbodyshot/bH3qqs...</td>\n    </tr>\n    <tr>\n      <th>3</th>\n      <td>sterling</td>\n      <td>New Zealand</td>\n      <td>https://www.hltv.org/stats/players/12591/sterling</td>\n      <td>AVANT,Looking For Org,Dire Wolves</td>\n      <td>861</td>\n      <td>22023</td>\n      <td>3960</td>\n      <td>1.30</td>\n      <td>1.17</td>\n      <td>17063</td>\n      <td>https://img-cdn.hltv.org/playerbodyshot/Rg6dzO...</td>\n    </tr>\n    <tr>\n      <th>4</th>\n      <td>xsepower</td>\n      <td>Russia</td>\n      <td>https://www.hltv.org/stats/players/12733/xsepower</td>\n      <td>K23,K23,forZe</td>\n      <td>1264</td>\n      <td>33946</td>\n      <td>4637</td>\n      <td>1.23</td>\n      <td>1.11</td>\n      <td>24421</td>\n      <td>https://img-cdn.hltv.org/playerbodyshot/rJA5Of...</td>\n    </tr>\n  </tbody>\n</table>\n</div>"
     },
     "execution_count": 24,
     "metadata": {},
     "output_type": "execute_result"
    }
   ],
   "source": [
    "df = pd.read_csv(\"../data-collecter-js/newOut.csv\")\n",
    "df.head(5)"
   ],
   "metadata": {
    "collapsed": false,
    "pycharm": {
     "name": "#%%\n"
    }
   }
  },
  {
   "cell_type": "code",
   "execution_count": 25,
   "outputs": [
    {
     "name": "stdout",
     "output_type": "stream",
     "text": [
      "<class 'pandas.core.frame.DataFrame'>\n",
      "RangeIndex: 16 entries, 0 to 15\n",
      "Data columns (total 11 columns):\n",
      " #   Column         Non-Null Count  Dtype  \n",
      "---  ------         --------------  -----  \n",
      " 0   name           16 non-null     object \n",
      " 1   country        16 non-null     object \n",
      " 2   url            16 non-null     object \n",
      " 3   teams          16 non-null     object \n",
      " 4   maps_played    16 non-null     int64  \n",
      " 5   rounds_played  16 non-null     int64  \n",
      " 6   kd_difference  16 non-null     int64  \n",
      " 7   kd_ratio       16 non-null     float64\n",
      " 8   rating         16 non-null     float64\n",
      " 9   total_kills    16 non-null     int64  \n",
      " 10  image_url      16 non-null     object \n",
      "dtypes: float64(2), int64(4), object(5)\n",
      "memory usage: 1.5+ KB\n"
     ]
    }
   ],
   "source": [
    "df.info()"
   ],
   "metadata": {
    "collapsed": false,
    "pycharm": {
     "name": "#%%\n"
    }
   }
  },
  {
   "cell_type": "code",
   "execution_count": 26,
   "outputs": [
    {
     "data": {
      "text/plain": "       maps_played  rounds_played  kd_difference   kd_ratio     rating  \\\ncount    16.000000      16.000000       16.00000  16.000000  16.000000   \nmean    772.312500   20459.812500     3143.25000   1.261875   1.156250   \nstd     319.131889    8370.463581     1484.54287   0.092967   0.053276   \nmin     404.000000   10701.000000     1042.00000   1.130000   1.090000   \n25%     471.750000   12575.000000     1997.25000   1.177500   1.110000   \n50%     691.000000   18465.000000     2868.50000   1.260000   1.155000   \n75%     918.000000   24339.250000     3971.75000   1.317500   1.192500   \nmax    1387.000000   36436.000000     6164.00000   1.450000   1.270000   \n\n        total_kills  \ncount     16.000000  \nmean   15593.375000  \nstd     6216.760731  \nmin     8482.000000  \n25%     9668.250000  \n50%    14127.500000  \n75%    19223.750000  \nmax    26662.000000  ",
      "text/html": "<div>\n<style scoped>\n    .dataframe tbody tr th:only-of-type {\n        vertical-align: middle;\n    }\n\n    .dataframe tbody tr th {\n        vertical-align: top;\n    }\n\n    .dataframe thead th {\n        text-align: right;\n    }\n</style>\n<table border=\"1\" class=\"dataframe\">\n  <thead>\n    <tr style=\"text-align: right;\">\n      <th></th>\n      <th>maps_played</th>\n      <th>rounds_played</th>\n      <th>kd_difference</th>\n      <th>kd_ratio</th>\n      <th>rating</th>\n      <th>total_kills</th>\n    </tr>\n  </thead>\n  <tbody>\n    <tr>\n      <th>count</th>\n      <td>16.000000</td>\n      <td>16.000000</td>\n      <td>16.00000</td>\n      <td>16.000000</td>\n      <td>16.000000</td>\n      <td>16.000000</td>\n    </tr>\n    <tr>\n      <th>mean</th>\n      <td>772.312500</td>\n      <td>20459.812500</td>\n      <td>3143.25000</td>\n      <td>1.261875</td>\n      <td>1.156250</td>\n      <td>15593.375000</td>\n    </tr>\n    <tr>\n      <th>std</th>\n      <td>319.131889</td>\n      <td>8370.463581</td>\n      <td>1484.54287</td>\n      <td>0.092967</td>\n      <td>0.053276</td>\n      <td>6216.760731</td>\n    </tr>\n    <tr>\n      <th>min</th>\n      <td>404.000000</td>\n      <td>10701.000000</td>\n      <td>1042.00000</td>\n      <td>1.130000</td>\n      <td>1.090000</td>\n      <td>8482.000000</td>\n    </tr>\n    <tr>\n      <th>25%</th>\n      <td>471.750000</td>\n      <td>12575.000000</td>\n      <td>1997.25000</td>\n      <td>1.177500</td>\n      <td>1.110000</td>\n      <td>9668.250000</td>\n    </tr>\n    <tr>\n      <th>50%</th>\n      <td>691.000000</td>\n      <td>18465.000000</td>\n      <td>2868.50000</td>\n      <td>1.260000</td>\n      <td>1.155000</td>\n      <td>14127.500000</td>\n    </tr>\n    <tr>\n      <th>75%</th>\n      <td>918.000000</td>\n      <td>24339.250000</td>\n      <td>3971.75000</td>\n      <td>1.317500</td>\n      <td>1.192500</td>\n      <td>19223.750000</td>\n    </tr>\n    <tr>\n      <th>max</th>\n      <td>1387.000000</td>\n      <td>36436.000000</td>\n      <td>6164.00000</td>\n      <td>1.450000</td>\n      <td>1.270000</td>\n      <td>26662.000000</td>\n    </tr>\n  </tbody>\n</table>\n</div>"
     },
     "execution_count": 26,
     "metadata": {},
     "output_type": "execute_result"
    }
   ],
   "source": [
    "df.describe()"
   ],
   "metadata": {
    "collapsed": false,
    "pycharm": {
     "name": "#%%\n"
    }
   }
  },
  {
   "cell_type": "code",
   "execution_count": 27,
   "outputs": [],
   "source": [
    "df_numeric = df.select_dtypes(include=[np.number])\n",
    "df_categoric = df.select_dtypes(exclude=[np.number])\n",
    "\n",
    "df_numeric_cols = list(df_numeric.columns)\n",
    "df_categoric_cols = list(df_categoric.columns)"
   ],
   "metadata": {
    "collapsed": false,
    "pycharm": {
     "name": "#%%\n"
    }
   }
  },
  {
   "cell_type": "code",
   "execution_count": 28,
   "outputs": [],
   "source": [
    "def maxAndMinStats(dataframe, cols):\n",
    "    \"\"\"Extracting out players with interesting statistics\"\"\"\n",
    "    def maxAndMin(dataf, column):\n",
    "        return dataf.loc[dataf[column].idxmax()], dataf.loc[dataf[column].idxmin()]\n",
    "\n",
    "    maxMinList = []\n",
    "\n",
    "    for col in cols:\n",
    "        print('Column: ', col)\n",
    "        res = maxAndMin(dataframe, col)\n",
    "        max_, min_ = res\n",
    "        print('Max in ', col, ': ', max_['name'])\n",
    "        # print('Min in ', col, ': ', min_['name'], '\\n')\n",
    "        # print(max_['image_url'])\n",
    "        # print(max_[col])\n",
    "        sql= \"insert into player_stats(title, count, name, profile_url) VALUES(%s,%s,%s,%s)\"\n",
    "        values=(col,str(max_[col]),max_['name'],max_['image_url'])\n",
    "        mycursor.execute(sql,values)\n",
    "        mydb.commit()\n",
    "        print(mycursor.rowcount, \"record(s) inserted.\")\n",
    "        maxMinList.append(res)\n",
    "\n",
    "    return maxMinList"
   ],
   "metadata": {
    "collapsed": false,
    "pycharm": {
     "name": "#%%\n"
    }
   }
  },
  {
   "cell_type": "code",
   "execution_count": 29,
   "outputs": [
    {
     "name": "stdout",
     "output_type": "stream",
     "text": [
      "Column:  maps_played\n",
      "Max in  maps_played :  Twistzz\n",
      "1 record(s) inserted.\n",
      "Column:  rounds_played\n",
      "Max in  rounds_played :  Twistzz\n",
      "1 record(s) inserted.\n",
      "Column:  kd_difference\n",
      "Max in  kd_difference :  ZywOo\n",
      "1 record(s) inserted.\n",
      "Column:  kd_ratio\n",
      "Max in  kd_ratio :  sh1ro\n",
      "1 record(s) inserted.\n",
      "Column:  rating\n",
      "Max in  rating :  ZywOo\n",
      "1 record(s) inserted.\n",
      "Column:  total_kills\n",
      "Max in  total_kills :  Twistzz\n",
      "1 record(s) inserted.\n"
     ]
    }
   ],
   "source": [
    "maxMinStats = maxAndMinStats(df, df_numeric_cols)"
   ],
   "metadata": {
    "collapsed": false,
    "pycharm": {
     "name": "#%%\n"
    }
   }
  },
  {
   "cell_type": "code",
   "execution_count": 12,
   "outputs": [],
   "source": [
    "df = pd.read_csv(\"../data-collecter-js/newOut.csv\")\n",
    "df.head(5)\n",
    "mycursor = mydb.cursor()\n",
    "mycursor.execute(\"TRUNCATE TABLE player_table\")"
   ],
   "metadata": {
    "collapsed": false,
    "pycharm": {
     "name": "#%%\n"
    }
   }
  },
  {
   "cell_type": "code",
   "execution_count": 13,
   "outputs": [
    {
     "name": "stdout",
     "output_type": "stream",
     "text": [
      "torzsi Hungary 476\n",
      "sh1ro Russia 884\n",
      "degster Russia 686\n",
      "sterling New Zealand 861\n",
      "xsepower Russia 1264\n",
      "mantuu Poland 696\n",
      "frozen Slovakia 1216\n",
      "hades Poland 602\n",
      "NEOFRAG Czech Republic 676\n",
      "deko Russia 404\n",
      "blameF Denmark 880\n",
      "saffee Brazil 404\n",
      "Twistzz Canada 1387\n",
      "ZywOo France 1020\n",
      "SENSEi Ukraine 459\n",
      "Spinx Israel 442\n"
     ]
    }
   ],
   "source": [
    "for ind in df.index:\n",
    "    print(df['name'][ind], df['country'][ind],df[\"maps_played\"][ind])"
   ],
   "metadata": {
    "collapsed": false,
    "pycharm": {
     "name": "#%%\n"
    }
   }
  },
  {
   "cell_type": "code",
   "execution_count": 14,
   "outputs": [],
   "source": [
    "for ind in df.index:\n",
    "    sql= \"insert into player_table(name, country, maps_played,rounds_played,kd_ratio,rating,total_kills) VALUES(%s,%s,%s,%s,%s,%s,%s)\"\n",
    "    values=(df['name'][ind],df['country'][ind],str(df[\"maps_played\"][ind]),str(df[\"rounds_played\"][ind]),str(df[\"kd_ratio\"][ind]),str(df[\"rating\"][ind]),str(df[\"total_kills\"][ind]))\n",
    "    mycursor.execute(sql,values)\n",
    "    mydb.commit()"
   ],
   "metadata": {
    "collapsed": false,
    "pycharm": {
     "name": "#%%\n"
    }
   }
  },
  {
   "cell_type": "code",
   "execution_count": null,
   "outputs": [],
   "source": [],
   "metadata": {
    "collapsed": false,
    "pycharm": {
     "name": "#%%\n"
    }
   }
  }
 ],
 "metadata": {
  "kernelspec": {
   "display_name": "Python 3",
   "language": "python",
   "name": "python3"
  },
  "language_info": {
   "codemirror_mode": {
    "name": "ipython",
    "version": 2
   },
   "file_extension": ".py",
   "mimetype": "text/x-python",
   "name": "python",
   "nbconvert_exporter": "python",
   "pygments_lexer": "ipython2",
   "version": "2.7.6"
  }
 },
 "nbformat": 4,
 "nbformat_minor": 0
}