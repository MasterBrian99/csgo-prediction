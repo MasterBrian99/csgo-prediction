{
 "cells": [
  {
   "cell_type": "code",
   "execution_count": 1,
   "outputs": [],
   "source": [
    "import math\n",
    "import re as re\n",
    "import requests\n",
    "import pandas as pd\n",
    "import numpy as np\n",
    "import matplotlib.pyplot as plt\n",
    "from bs4 import BeautifulSoup as bs\n",
    "from sklearn import svm\n",
    "from sklearn.model_selection import cross_val_score\n",
    "from sklearn.model_selection import learning_curve"
   ],
   "metadata": {
    "collapsed": false,
    "pycharm": {
     "name": "#%%\n"
    }
   }
  },
  {
   "cell_type": "code",
   "execution_count": 2,
   "outputs": [
    {
     "data": {
      "text/plain": "                 Team         Country  Maps  K/D Differential   K/D  Rating\n1           Renegades       Australia  1066              4642  1.05    1.05\n2                ViCi           China   731              5761  1.09    1.05\n3               ORDER       Australia   873              9638  1.14    1.05\n4            Vitality          France   798              3496  1.05    1.05\n5      Space Soldiers          Turkey   804              6008  1.09    1.04\n6                MIBR          Brazil   775              2993  1.05    1.04\n7               FURIA          Brazil   959              6839  1.09    1.04\n8              Liquid   United States  1605              8498  1.06    1.04\n9            Astralis         Denmark  1319             10481  1.10    1.04\n10               FaZe          Europe  1309              5151  1.05    1.04\n11              North         Denmark   822              1228  1.02    1.04\n12        HellRaisers             CIS  1801              3399  1.02    1.03\n13                NIP          Sweden  2072             11747  1.07    1.03\n14                BIG         Germany  1229              2227  1.02    1.03\n15             fnatic          Sweden  1889              7881  1.05    1.03\n16                 G2          France  1576              3959  1.03    1.03\n17               MOUZ          Europe  1938              7205  1.04    1.03\n18         Complexity          Europe  1374               994  1.01    1.03\n19              forZe          Russia  1510              9250  1.07    1.03\n20           Dignitas          Sweden  1484              2427  1.02    1.02\n21            Kinguin          Poland   859              5225  1.07    1.02\n22         Luminosity          Brazil   888              3351  1.04    1.02\n23             Cloud9   United States  1377              5621  1.05    1.02\n24           FlipSid3          Russia   791             -1657  0.98    1.02\n25             Chiefs       Australia  1019              7005  1.08    1.02\n26      Natus Vincere         Ukraine  1892             12036  1.07    1.02\n27            GODSENT          Brazil   996              1640  1.02    1.02\n28            TeamOne          Brazil  1051              2907  1.03    1.02\n29                 SK          Brazil   899              5481  1.07    1.02\n30             Sprout         Germany  1377              4738  1.04    1.02\n31        GamerLegion          Sweden   772               948  1.01    1.02\n32        Singularity   United States   986               319  1.00    1.02\n33               HAVU         Finland  1262              5166  1.05    1.02\n34         Virtus.pro          Poland  2035              3752  1.02    1.02\n35              OpTic   North America   843              2524  1.03    1.01\n36               Envy          France  1181              1942  1.02    1.01\n37               ENCE         Finland  1079              2059  1.02    1.01\n38             Heroic         Denmark  1314              4531  1.04    1.01\n39              SKADE        Bulgaria  1086              2261  1.02    1.01\n40            Epsilon          Sweden   937              2791  1.03    1.01\n41    Movistar Riders           Spain  1078              2011  1.02    1.01\n42           Endpoint  United Kingdom  1066               346  1.00    1.01\n43             Spirit          Russia  1375              5653  1.05    1.01\n44                NRG   United States   773              3117  1.05    1.01\n45            AVANGAR      Kazakhstan   781              6297  1.10    1.01\n46             Isurus       Argentina   741              1449  1.02    1.01\n47                AGO          Poland  1537              2972  1.02    1.01\n48              PENTA          Europe   732              -733  0.99    1.01\n49               LDLC          France  1500              2493  1.02    1.00\n50             Nemiga         Belarus  1278              2683  1.02    1.00\n51              Nexus         Romania   989               568  1.01    1.00\n52             Gambit          Russia  1024              4982  1.06    1.00\n53                 SJ         Finland   748             -1474  0.98    1.00\n54  Copenhagen Flames         Denmark  1089              2405  1.03    0.99\n55            Tricked         Denmark  1584              1471  1.01    0.99\n56               PACT          Poland   865             -2185  0.97    0.98\n57        Izako Boars          Poland   732             -2401  0.96    0.97\n58    ALTERNATE aTTaX         Germany  1668               440  1.00    0.97",
      "text/html": "<div>\n<style scoped>\n    .dataframe tbody tr th:only-of-type {\n        vertical-align: middle;\n    }\n\n    .dataframe tbody tr th {\n        vertical-align: top;\n    }\n\n    .dataframe thead th {\n        text-align: right;\n    }\n</style>\n<table border=\"1\" class=\"dataframe\">\n  <thead>\n    <tr style=\"text-align: right;\">\n      <th></th>\n      <th>Team</th>\n      <th>Country</th>\n      <th>Maps</th>\n      <th>K/D Differential</th>\n      <th>K/D</th>\n      <th>Rating</th>\n    </tr>\n  </thead>\n  <tbody>\n    <tr>\n      <th>1</th>\n      <td>Renegades</td>\n      <td>Australia</td>\n      <td>1066</td>\n      <td>4642</td>\n      <td>1.05</td>\n      <td>1.05</td>\n    </tr>\n    <tr>\n      <th>2</th>\n      <td>ViCi</td>\n      <td>China</td>\n      <td>731</td>\n      <td>5761</td>\n      <td>1.09</td>\n      <td>1.05</td>\n    </tr>\n    <tr>\n      <th>3</th>\n      <td>ORDER</td>\n      <td>Australia</td>\n      <td>873</td>\n      <td>9638</td>\n      <td>1.14</td>\n      <td>1.05</td>\n    </tr>\n    <tr>\n      <th>4</th>\n      <td>Vitality</td>\n      <td>France</td>\n      <td>798</td>\n      <td>3496</td>\n      <td>1.05</td>\n      <td>1.05</td>\n    </tr>\n    <tr>\n      <th>5</th>\n      <td>Space Soldiers</td>\n      <td>Turkey</td>\n      <td>804</td>\n      <td>6008</td>\n      <td>1.09</td>\n      <td>1.04</td>\n    </tr>\n    <tr>\n      <th>6</th>\n      <td>MIBR</td>\n      <td>Brazil</td>\n      <td>775</td>\n      <td>2993</td>\n      <td>1.05</td>\n      <td>1.04</td>\n    </tr>\n    <tr>\n      <th>7</th>\n      <td>FURIA</td>\n      <td>Brazil</td>\n      <td>959</td>\n      <td>6839</td>\n      <td>1.09</td>\n      <td>1.04</td>\n    </tr>\n    <tr>\n      <th>8</th>\n      <td>Liquid</td>\n      <td>United States</td>\n      <td>1605</td>\n      <td>8498</td>\n      <td>1.06</td>\n      <td>1.04</td>\n    </tr>\n    <tr>\n      <th>9</th>\n      <td>Astralis</td>\n      <td>Denmark</td>\n      <td>1319</td>\n      <td>10481</td>\n      <td>1.10</td>\n      <td>1.04</td>\n    </tr>\n    <tr>\n      <th>10</th>\n      <td>FaZe</td>\n      <td>Europe</td>\n      <td>1309</td>\n      <td>5151</td>\n      <td>1.05</td>\n      <td>1.04</td>\n    </tr>\n    <tr>\n      <th>11</th>\n      <td>North</td>\n      <td>Denmark</td>\n      <td>822</td>\n      <td>1228</td>\n      <td>1.02</td>\n      <td>1.04</td>\n    </tr>\n    <tr>\n      <th>12</th>\n      <td>HellRaisers</td>\n      <td>CIS</td>\n      <td>1801</td>\n      <td>3399</td>\n      <td>1.02</td>\n      <td>1.03</td>\n    </tr>\n    <tr>\n      <th>13</th>\n      <td>NIP</td>\n      <td>Sweden</td>\n      <td>2072</td>\n      <td>11747</td>\n      <td>1.07</td>\n      <td>1.03</td>\n    </tr>\n    <tr>\n      <th>14</th>\n      <td>BIG</td>\n      <td>Germany</td>\n      <td>1229</td>\n      <td>2227</td>\n      <td>1.02</td>\n      <td>1.03</td>\n    </tr>\n    <tr>\n      <th>15</th>\n      <td>fnatic</td>\n      <td>Sweden</td>\n      <td>1889</td>\n      <td>7881</td>\n      <td>1.05</td>\n      <td>1.03</td>\n    </tr>\n    <tr>\n      <th>16</th>\n      <td>G2</td>\n      <td>France</td>\n      <td>1576</td>\n      <td>3959</td>\n      <td>1.03</td>\n      <td>1.03</td>\n    </tr>\n    <tr>\n      <th>17</th>\n      <td>MOUZ</td>\n      <td>Europe</td>\n      <td>1938</td>\n      <td>7205</td>\n      <td>1.04</td>\n      <td>1.03</td>\n    </tr>\n    <tr>\n      <th>18</th>\n      <td>Complexity</td>\n      <td>Europe</td>\n      <td>1374</td>\n      <td>994</td>\n      <td>1.01</td>\n      <td>1.03</td>\n    </tr>\n    <tr>\n      <th>19</th>\n      <td>forZe</td>\n      <td>Russia</td>\n      <td>1510</td>\n      <td>9250</td>\n      <td>1.07</td>\n      <td>1.03</td>\n    </tr>\n    <tr>\n      <th>20</th>\n      <td>Dignitas</td>\n      <td>Sweden</td>\n      <td>1484</td>\n      <td>2427</td>\n      <td>1.02</td>\n      <td>1.02</td>\n    </tr>\n    <tr>\n      <th>21</th>\n      <td>Kinguin</td>\n      <td>Poland</td>\n      <td>859</td>\n      <td>5225</td>\n      <td>1.07</td>\n      <td>1.02</td>\n    </tr>\n    <tr>\n      <th>22</th>\n      <td>Luminosity</td>\n      <td>Brazil</td>\n      <td>888</td>\n      <td>3351</td>\n      <td>1.04</td>\n      <td>1.02</td>\n    </tr>\n    <tr>\n      <th>23</th>\n      <td>Cloud9</td>\n      <td>United States</td>\n      <td>1377</td>\n      <td>5621</td>\n      <td>1.05</td>\n      <td>1.02</td>\n    </tr>\n    <tr>\n      <th>24</th>\n      <td>FlipSid3</td>\n      <td>Russia</td>\n      <td>791</td>\n      <td>-1657</td>\n      <td>0.98</td>\n      <td>1.02</td>\n    </tr>\n    <tr>\n      <th>25</th>\n      <td>Chiefs</td>\n      <td>Australia</td>\n      <td>1019</td>\n      <td>7005</td>\n      <td>1.08</td>\n      <td>1.02</td>\n    </tr>\n    <tr>\n      <th>26</th>\n      <td>Natus Vincere</td>\n      <td>Ukraine</td>\n      <td>1892</td>\n      <td>12036</td>\n      <td>1.07</td>\n      <td>1.02</td>\n    </tr>\n    <tr>\n      <th>27</th>\n      <td>GODSENT</td>\n      <td>Brazil</td>\n      <td>996</td>\n      <td>1640</td>\n      <td>1.02</td>\n      <td>1.02</td>\n    </tr>\n    <tr>\n      <th>28</th>\n      <td>TeamOne</td>\n      <td>Brazil</td>\n      <td>1051</td>\n      <td>2907</td>\n      <td>1.03</td>\n      <td>1.02</td>\n    </tr>\n    <tr>\n      <th>29</th>\n      <td>SK</td>\n      <td>Brazil</td>\n      <td>899</td>\n      <td>5481</td>\n      <td>1.07</td>\n      <td>1.02</td>\n    </tr>\n    <tr>\n      <th>30</th>\n      <td>Sprout</td>\n      <td>Germany</td>\n      <td>1377</td>\n      <td>4738</td>\n      <td>1.04</td>\n      <td>1.02</td>\n    </tr>\n    <tr>\n      <th>31</th>\n      <td>GamerLegion</td>\n      <td>Sweden</td>\n      <td>772</td>\n      <td>948</td>\n      <td>1.01</td>\n      <td>1.02</td>\n    </tr>\n    <tr>\n      <th>32</th>\n      <td>Singularity</td>\n      <td>United States</td>\n      <td>986</td>\n      <td>319</td>\n      <td>1.00</td>\n      <td>1.02</td>\n    </tr>\n    <tr>\n      <th>33</th>\n      <td>HAVU</td>\n      <td>Finland</td>\n      <td>1262</td>\n      <td>5166</td>\n      <td>1.05</td>\n      <td>1.02</td>\n    </tr>\n    <tr>\n      <th>34</th>\n      <td>Virtus.pro</td>\n      <td>Poland</td>\n      <td>2035</td>\n      <td>3752</td>\n      <td>1.02</td>\n      <td>1.02</td>\n    </tr>\n    <tr>\n      <th>35</th>\n      <td>OpTic</td>\n      <td>North America</td>\n      <td>843</td>\n      <td>2524</td>\n      <td>1.03</td>\n      <td>1.01</td>\n    </tr>\n    <tr>\n      <th>36</th>\n      <td>Envy</td>\n      <td>France</td>\n      <td>1181</td>\n      <td>1942</td>\n      <td>1.02</td>\n      <td>1.01</td>\n    </tr>\n    <tr>\n      <th>37</th>\n      <td>ENCE</td>\n      <td>Finland</td>\n      <td>1079</td>\n      <td>2059</td>\n      <td>1.02</td>\n      <td>1.01</td>\n    </tr>\n    <tr>\n      <th>38</th>\n      <td>Heroic</td>\n      <td>Denmark</td>\n      <td>1314</td>\n      <td>4531</td>\n      <td>1.04</td>\n      <td>1.01</td>\n    </tr>\n    <tr>\n      <th>39</th>\n      <td>SKADE</td>\n      <td>Bulgaria</td>\n      <td>1086</td>\n      <td>2261</td>\n      <td>1.02</td>\n      <td>1.01</td>\n    </tr>\n    <tr>\n      <th>40</th>\n      <td>Epsilon</td>\n      <td>Sweden</td>\n      <td>937</td>\n      <td>2791</td>\n      <td>1.03</td>\n      <td>1.01</td>\n    </tr>\n    <tr>\n      <th>41</th>\n      <td>Movistar Riders</td>\n      <td>Spain</td>\n      <td>1078</td>\n      <td>2011</td>\n      <td>1.02</td>\n      <td>1.01</td>\n    </tr>\n    <tr>\n      <th>42</th>\n      <td>Endpoint</td>\n      <td>United Kingdom</td>\n      <td>1066</td>\n      <td>346</td>\n      <td>1.00</td>\n      <td>1.01</td>\n    </tr>\n    <tr>\n      <th>43</th>\n      <td>Spirit</td>\n      <td>Russia</td>\n      <td>1375</td>\n      <td>5653</td>\n      <td>1.05</td>\n      <td>1.01</td>\n    </tr>\n    <tr>\n      <th>44</th>\n      <td>NRG</td>\n      <td>United States</td>\n      <td>773</td>\n      <td>3117</td>\n      <td>1.05</td>\n      <td>1.01</td>\n    </tr>\n    <tr>\n      <th>45</th>\n      <td>AVANGAR</td>\n      <td>Kazakhstan</td>\n      <td>781</td>\n      <td>6297</td>\n      <td>1.10</td>\n      <td>1.01</td>\n    </tr>\n    <tr>\n      <th>46</th>\n      <td>Isurus</td>\n      <td>Argentina</td>\n      <td>741</td>\n      <td>1449</td>\n      <td>1.02</td>\n      <td>1.01</td>\n    </tr>\n    <tr>\n      <th>47</th>\n      <td>AGO</td>\n      <td>Poland</td>\n      <td>1537</td>\n      <td>2972</td>\n      <td>1.02</td>\n      <td>1.01</td>\n    </tr>\n    <tr>\n      <th>48</th>\n      <td>PENTA</td>\n      <td>Europe</td>\n      <td>732</td>\n      <td>-733</td>\n      <td>0.99</td>\n      <td>1.01</td>\n    </tr>\n    <tr>\n      <th>49</th>\n      <td>LDLC</td>\n      <td>France</td>\n      <td>1500</td>\n      <td>2493</td>\n      <td>1.02</td>\n      <td>1.00</td>\n    </tr>\n    <tr>\n      <th>50</th>\n      <td>Nemiga</td>\n      <td>Belarus</td>\n      <td>1278</td>\n      <td>2683</td>\n      <td>1.02</td>\n      <td>1.00</td>\n    </tr>\n    <tr>\n      <th>51</th>\n      <td>Nexus</td>\n      <td>Romania</td>\n      <td>989</td>\n      <td>568</td>\n      <td>1.01</td>\n      <td>1.00</td>\n    </tr>\n    <tr>\n      <th>52</th>\n      <td>Gambit</td>\n      <td>Russia</td>\n      <td>1024</td>\n      <td>4982</td>\n      <td>1.06</td>\n      <td>1.00</td>\n    </tr>\n    <tr>\n      <th>53</th>\n      <td>SJ</td>\n      <td>Finland</td>\n      <td>748</td>\n      <td>-1474</td>\n      <td>0.98</td>\n      <td>1.00</td>\n    </tr>\n    <tr>\n      <th>54</th>\n      <td>Copenhagen Flames</td>\n      <td>Denmark</td>\n      <td>1089</td>\n      <td>2405</td>\n      <td>1.03</td>\n      <td>0.99</td>\n    </tr>\n    <tr>\n      <th>55</th>\n      <td>Tricked</td>\n      <td>Denmark</td>\n      <td>1584</td>\n      <td>1471</td>\n      <td>1.01</td>\n      <td>0.99</td>\n    </tr>\n    <tr>\n      <th>56</th>\n      <td>PACT</td>\n      <td>Poland</td>\n      <td>865</td>\n      <td>-2185</td>\n      <td>0.97</td>\n      <td>0.98</td>\n    </tr>\n    <tr>\n      <th>57</th>\n      <td>Izako Boars</td>\n      <td>Poland</td>\n      <td>732</td>\n      <td>-2401</td>\n      <td>0.96</td>\n      <td>0.97</td>\n    </tr>\n    <tr>\n      <th>58</th>\n      <td>ALTERNATE aTTaX</td>\n      <td>Germany</td>\n      <td>1668</td>\n      <td>440</td>\n      <td>1.00</td>\n      <td>0.97</td>\n    </tr>\n  </tbody>\n</table>\n</div>"
     },
     "execution_count": 2,
     "metadata": {},
     "output_type": "execute_result"
    }
   ],
   "source": [
    "# Get the data\n",
    "r = requests.get(\"https://www.hltv.org/stats/teams\")\n",
    "\n",
    "# Create a pandas with pulled data\n",
    "root = bs(r.content, \"html.parser\")\n",
    "root.prettify()\n",
    "table = (str)(root.find(\"table\"))\n",
    "teams = pd.read_html(table, header=0)[0]\n",
    "\n",
    "# Pull the country data out of the table and put into our dataframe\n",
    "table = table.strip(\"\\\\n\")\n",
    "countries = (re.findall('title=\"(.+)\"/>', table))\n",
    "teams['Country'] = pd.Series(countries)\n",
    "\n",
    "# Clean up columns\n",
    "teams.columns = ['Team', 'Maps', 'K/D Differential', 'K/D', 'Rating', 'Country']\n",
    "teams = teams[['Team', 'Country', 'Maps', 'K/D Differential', 'K/D', 'Rating']]\n",
    "\n",
    "# Delete Tyloo from dataframe for reasons mentioned above\n",
    "teams = teams.drop([0])\n",
    "\n",
    "# Get a series with all team names\n",
    "teamlist = teams[teams.columns[0]]\n",
    "\n",
    "# Display resultant panda\n",
    "teams"
   ],
   "metadata": {
    "collapsed": false,
    "pycharm": {
     "name": "#%%\n"
    }
   }
  },
  {
   "cell_type": "code",
   "execution_count": 13,
   "outputs": [
    {
     "name": "stdout",
     "output_type": "stream",
     "text": [
      "      Player  Teams  Maps  Rounds  K-D Diff   K/D  Rating1.0\n",
      "0      ZywOo    NaN  1017   26721      6149  1.37       1.27\n",
      "1     s1mple    NaN  1561   41205      9048  1.34       1.25\n",
      "2      sh1ro    NaN   880   23348      5592  1.45       1.23\n",
      "3       deko    NaN   404   10913      2341  1.37       1.21\n",
      "4     saffee    NaN   397   10498      1939  1.30       1.20\n",
      "..       ...    ...   ...     ...       ...   ...        ...\n",
      "801    B1ad3    NaN   899   23232     -3408  0.80       0.83\n",
      "802  netrick    NaN   455   11976     -1736  0.80       0.82\n",
      "803   HUNDEN    NaN  1578   41153     -6238  0.78       0.81\n",
      "804   RuFire    NaN   384   10185     -1927  0.74       0.78\n",
      "805    OCEAN    NaN   410   10602     -1962  0.74       0.77\n",
      "\n",
      "[806 rows x 7 columns]\n"
     ]
    },
    {
     "data": {
      "text/plain": "Empty DataFrame\nColumns: [Player, Teams, Maps, Rounds, K/D Differential, K/D, Rating]\nIndex: []",
      "text/html": "<div>\n<style scoped>\n    .dataframe tbody tr th:only-of-type {\n        vertical-align: middle;\n    }\n\n    .dataframe tbody tr th {\n        vertical-align: top;\n    }\n\n    .dataframe thead th {\n        text-align: right;\n    }\n</style>\n<table border=\"1\" class=\"dataframe\">\n  <thead>\n    <tr style=\"text-align: right;\">\n      <th></th>\n      <th>Player</th>\n      <th>Teams</th>\n      <th>Maps</th>\n      <th>Rounds</th>\n      <th>K/D Differential</th>\n      <th>K/D</th>\n      <th>Rating</th>\n    </tr>\n  </thead>\n  <tbody>\n  </tbody>\n</table>\n</div>"
     },
     "execution_count": 13,
     "metadata": {},
     "output_type": "execute_result"
    }
   ],
   "source": [
    "# Get the data\n",
    "r = requests.get(\"https://www.hltv.org/stats/players\")\n",
    "\n",
    "# Create a pandas with pulled data\n",
    "root = bs(r.content, \"html.parser\")\n",
    "root.prettify()\n",
    "\n",
    "# Pull the player data out of the table and put into our dataframe\n",
    "table = str(root.find(\"table\"))\n",
    "players = pd.read_html(table, header=0)[0]\n",
    "print(players)\n",
    "# An array containing a list of top 10 teams (according to HLTV's critically acclaimed ranking system)\n",
    "topTeams = ['Renegades', 'ViCi', 'ORDER', 'Vitality', 'Space Soldiers', 'MIBR', 'FURIA', 'Liquid', 'Astralis', 'FaZe']\n",
    "\n",
    "# Discard player information for anyone not listed in the top 10 teams\n",
    "players = players[players['Teams'].isin(topTeams)]\n",
    "\n",
    "players = players.sort_values('Teams')\n",
    "players.columns = ['Player', 'Teams', 'Maps','Rounds', 'K/D Differential', 'K/D', 'Rating']\n",
    "\n",
    "# Display resultant panda\n",
    "players"
   ],
   "metadata": {
    "collapsed": false,
    "pycharm": {
     "name": "#%%\n"
    }
   }
  },
  {
   "cell_type": "code",
   "execution_count": 10,
   "outputs": [],
   "source": [],
   "metadata": {
    "collapsed": false,
    "pycharm": {
     "name": "#%%\n"
    }
   }
  },
  {
   "cell_type": "code",
   "execution_count": null,
   "outputs": [],
   "source": [],
   "metadata": {
    "collapsed": false,
    "pycharm": {
     "name": "#%%\n"
    }
   }
  }
 ],
 "metadata": {
  "kernelspec": {
   "display_name": "Python 3",
   "language": "python",
   "name": "python3"
  },
  "language_info": {
   "codemirror_mode": {
    "name": "ipython",
    "version": 2
   },
   "file_extension": ".py",
   "mimetype": "text/x-python",
   "name": "python",
   "nbconvert_exporter": "python",
   "pygments_lexer": "ipython2",
   "version": "2.7.6"
  }
 },
 "nbformat": 4,
 "nbformat_minor": 0
}