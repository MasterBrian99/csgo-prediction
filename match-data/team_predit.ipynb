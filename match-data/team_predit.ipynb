{
 "cells": [
  {
   "cell_type": "code",
   "execution_count": 1,
   "outputs": [
    {
     "name": "stdout",
     "output_type": "stream",
     "text": [
      "Importing libraries...\n",
      "Success!\n",
      "Natus Vincere CS:GO Win Predictor 0.02 by Ravehorn.\n"
     ]
    },
    {
     "name": "stderr",
     "output_type": "stream",
     "text": [
      "/home/brian/.conda/envs/workspace/lib/python3.10/site-packages/xgboost/compat.py:36: FutureWarning: pandas.Int64Index is deprecated and will be removed from pandas in a future version. Use pandas.Index with the appropriate dtype instead.\n",
      "  from pandas import MultiIndex, Int64Index\n"
     ]
    }
   ],
   "source": [
    "# Importing the libraries\n",
    "print('Importing libraries...')\n",
    "import numpy as np\n",
    "import pandas as pd\n",
    "from sklearn.preprocessing import OneHotEncoder\n",
    "from sklearn.model_selection import train_test_split\n",
    "from xgboost import XGBClassifier\n",
    "from sklearn.metrics import confusion_matrix\n",
    "import datetime"
   ],
   "metadata": {
    "collapsed": false,
    "pycharm": {
     "name": "#%%\n"
    }
   }
  },
  {
   "cell_type": "code",
   "execution_count": 9,
   "outputs": [],
   "source": [
    "\n",
    "# Parameters of the call\n",
    "def params(argument):\n",
    "    if argument == 'team_1':\n",
    "        return 'Astralis'\n",
    "    elif argument == 'team_2':\n",
    "        return 'Liquid'\n",
    "    elif argument == '_map':\n",
    "        return 'Mirage'\n",
    "    elif argument == 'rank_1':\n",
    "        return 867\n",
    "    elif argument == 'rank_2':\n",
    "        return 583\n",
    "    raise NameError\n",
    "\n"
   ],
   "metadata": {
    "collapsed": false,
    "pycharm": {
     "name": "#%%\n"
    }
   }
  },
  {
   "cell_type": "code",
   "execution_count": 26,
   "outputs": [
    {
     "name": "stdout",
     "output_type": "stream",
     "text": [
      "          team       date opponent       map win_lose  outcome  year\n",
      "7624  Astralis 2022-07-09   Cloud9    Mirage     16-8        1  2022\n",
      "7625  Astralis 2022-07-09   Cloud9   Inferno    16-11        1  2022\n",
      "7626  Astralis 2022-07-08    FURIA    Mirage    16-13        1  2022\n",
      "7627  Astralis 2022-07-08    FURIA      Nuke     16-8        1  2022\n",
      "7628  Astralis 2022-07-06      BIG  Overpass    16-11        1  2022\n"
     ]
    }
   ],
   "source": [
    "dataset = pd.read_csv('../data-collecter-js/teamTopMatchData.csv')\n",
    "dataset['date'] = pd.to_datetime(dataset['date'])\n",
    "_2019 = datetime.date(2019, 1, 1)\n",
    "_2019 = pd.to_datetime(_2019)\n",
    "dataset = dataset.loc[dataset['date'] >= _2019]\n",
    "dataset_p1 = dataset.loc[dataset['team'] == params('team_1')]\n",
    "dataset_p2 = dataset.loc[dataset['opponent'] == params('team_1')]\n",
    "dataset_p3 = dataset.loc[(dataset['team'] == params('team_2')) & (dataset['opponent'] != params('team_1'))]\n",
    "dataset_p4 = dataset.loc[(dataset['opponent'] == params('team_2')) & (dataset['team'] != params('team_1'))]\n",
    "dataset = pd.concat([dataset_p1, dataset_p2, dataset_p3, dataset_p4])\n",
    "# X = dataset.iloc[:, [5,6]].values\n",
    "print(dataset.head())\n",
    "# y = dataset.iloc[:, 6].values\n",
    "# print('Success!')"
   ],
   "metadata": {
    "collapsed": false,
    "pycharm": {
     "name": "#%%\n"
    }
   }
  },
  {
   "cell_type": "code",
   "execution_count": null,
   "outputs": [],
   "source": [],
   "metadata": {
    "collapsed": false,
    "pycharm": {
     "name": "#%%\n"
    }
   }
  }
 ],
 "metadata": {
  "kernelspec": {
   "display_name": "Python 3",
   "language": "python",
   "name": "python3"
  },
  "language_info": {
   "codemirror_mode": {
    "name": "ipython",
    "version": 2
   },
   "file_extension": ".py",
   "mimetype": "text/x-python",
   "name": "python",
   "nbconvert_exporter": "python",
   "pygments_lexer": "ipython2",
   "version": "2.7.6"
  }
 },
 "nbformat": 4,
 "nbformat_minor": 0
}